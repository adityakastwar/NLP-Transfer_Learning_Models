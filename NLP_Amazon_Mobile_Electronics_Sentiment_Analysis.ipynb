{
  "nbformat": 4,
  "nbformat_minor": 0,
  "metadata": {
    "accelerator": "GPU",
    "colab": {
      "name": "NLP_Amazon_Mobile_Electronics_Sentiment_Analysis",
      "provenance": [],
      "authorship_tag": "ABX9TyMbIwDJ8hfdxMSnipxCmgSN",
      "include_colab_link": true
    },
    "kernelspec": {
      "display_name": "Python 3",
      "name": "python3"
    }
  },
  "cells": [
    {
      "cell_type": "markdown",
      "metadata": {
        "id": "view-in-github",
        "colab_type": "text"
      },
      "source": [
        "<a href=\"https://colab.research.google.com/github/akhilkapil/NLP-Transfer_Learning_Models/blob/main/NLP_Amazon_Mobile_Electronics_Sentiment_Analysis.ipynb\" target=\"_parent\"><img src=\"https://colab.research.google.com/assets/colab-badge.svg\" alt=\"Open In Colab\"/></a>"
      ]
    },
    {
      "cell_type": "code",
      "metadata": {
        "id": "TT3ZgQyXlGHS",
        "outputId": "dca5e572-e8c9-4d0f-982d-2301371d1197",
        "colab": {
          "base_uri": "https://localhost:8080/",
          "height": 52
        }
      },
      "source": [
        "import pandas as pd \n",
        "import numpy as np\n",
        "import tensorflow as tf\n",
        "import tensorflow_datasets as tfds\n",
        "import nltk\n",
        "nltk.download('punkt')\n",
        "\n",
        "import matplotlib.pyplot as plt"
      ],
      "execution_count": null,
      "outputs": [
        {
          "output_type": "stream",
          "text": [
            "[nltk_data] Downloading package punkt to /root/nltk_data...\n",
            "[nltk_data]   Unzipping tokenizers/punkt.zip.\n"
          ],
          "name": "stdout"
        }
      ]
    },
    {
      "cell_type": "code",
      "metadata": {
        "id": "UNtb1imOlHgb"
      },
      "source": [
        "import pkg_resources"
      ],
      "execution_count": null,
      "outputs": []
    },
    {
      "cell_type": "code",
      "metadata": {
        "id": "ZDSkbquNlmZz"
      },
      "source": [
        "dataset, info = tfds.load('amazon_us_reviews/Mobile_Electronics_v1_00', with_info = True)\n",
        "train_dataset = dataset['train']"
      ],
      "execution_count": null,
      "outputs": []
    },
    {
      "cell_type": "code",
      "metadata": {
        "id": "GetdjyVrnJ-T",
        "outputId": "73debb4c-6256-40b9-a590-6599cbdc7920",
        "colab": {
          "base_uri": "https://localhost:8080/",
          "height": 54
        }
      },
      "source": [
        "train_dataset"
      ],
      "execution_count": null,
      "outputs": [
        {
          "output_type": "execute_result",
          "data": {
            "text/plain": [
              "<DatasetV1Adapter shapes: {data: {customer_id: (), helpful_votes: (), marketplace: (), product_category: (), product_id: (), product_parent: (), product_title: (), review_body: (), review_date: (), review_headline: (), review_id: (), star_rating: (), total_votes: (), verified_purchase: (), vine: ()}}, types: {data: {customer_id: tf.string, helpful_votes: tf.int32, marketplace: tf.string, product_category: tf.string, product_id: tf.string, product_parent: tf.string, product_title: tf.string, review_body: tf.string, review_date: tf.string, review_headline: tf.string, review_id: tf.string, star_rating: tf.int32, total_votes: tf.int32, verified_purchase: tf.int64, vine: tf.int64}}>"
            ]
          },
          "metadata": {
            "tags": []
          },
          "execution_count": 5
        }
      ]
    },
    {
      "cell_type": "code",
      "metadata": {
        "id": "Cje4F8U4mGag"
      },
      "source": [
        ""
      ],
      "execution_count": null,
      "outputs": []
    },
    {
      "cell_type": "code",
      "metadata": {
        "id": "rQh2SdEIm-TW"
      },
      "source": [
        "BUFFER_SIZE = 3000\n",
        "BATCH_SIZE = 128"
      ],
      "execution_count": null,
      "outputs": []
    },
    {
      "cell_type": "code",
      "metadata": {
        "id": "djax5wmomzrK"
      },
      "source": [
        "train_dataset = train_dataset.shuffle(BUFFER_SIZE, reshuffle_each_iteration=False)"
      ],
      "execution_count": null,
      "outputs": []
    },
    {
      "cell_type": "code",
      "metadata": {
        "id": "9cLNuBo7nHs3",
        "outputId": "2c930630-4eda-491e-c4ac-3d118a22aadc",
        "colab": {
          "base_uri": "https://localhost:8080/",
          "height": 72
        }
      },
      "source": [
        "for reviews in train_dataset.take(2):\n",
        "  print(reviews)"
      ],
      "execution_count": null,
      "outputs": [
        {
          "output_type": "stream",
          "text": [
            "{'data': {'customer_id': <tf.Tensor: shape=(), dtype=string, numpy=b'13922051'>, 'helpful_votes': <tf.Tensor: shape=(), dtype=int32, numpy=0>, 'marketplace': <tf.Tensor: shape=(), dtype=string, numpy=b'US'>, 'product_category': <tf.Tensor: shape=(), dtype=string, numpy=b'Mobile_Electronics'>, 'product_id': <tf.Tensor: shape=(), dtype=string, numpy=b'B00AMAISIY'>, 'product_parent': <tf.Tensor: shape=(), dtype=string, numpy=b'1823189'>, 'product_title': <tf.Tensor: shape=(), dtype=string, numpy=b'VPR Black Leather Folio Cover Case for 6\" Kindle Wi-Fi E-Ink Display without Keyboard (Not for Kindle Touch or Kindle Paperwhite)'>, 'review_body': <tf.Tensor: shape=(), dtype=string, numpy=b'This is a really nice, simple, black leather Kindle case. It offers great protection and even has a little pocket inside the front cover for notes. Terrific value for the money.'>, 'review_date': <tf.Tensor: shape=(), dtype=string, numpy=b'2013-05-08'>, 'review_headline': <tf.Tensor: shape=(), dtype=string, numpy=b'Great Protective Case for Kindle'>, 'review_id': <tf.Tensor: shape=(), dtype=string, numpy=b'RTF69W6S9DJKL'>, 'star_rating': <tf.Tensor: shape=(), dtype=int32, numpy=5>, 'total_votes': <tf.Tensor: shape=(), dtype=int32, numpy=0>, 'verified_purchase': <tf.Tensor: shape=(), dtype=int64, numpy=0>, 'vine': <tf.Tensor: shape=(), dtype=int64, numpy=1>}}\n",
            "{'data': {'customer_id': <tf.Tensor: shape=(), dtype=string, numpy=b'38566593'>, 'helpful_votes': <tf.Tensor: shape=(), dtype=int32, numpy=0>, 'marketplace': <tf.Tensor: shape=(), dtype=string, numpy=b'US'>, 'product_category': <tf.Tensor: shape=(), dtype=string, numpy=b'Mobile_Electronics'>, 'product_id': <tf.Tensor: shape=(), dtype=string, numpy=b'B00IVCZWZ2'>, 'product_parent': <tf.Tensor: shape=(), dtype=string, numpy=b'703119085'>, 'product_title': <tf.Tensor: shape=(), dtype=string, numpy=b'OEM-Yoaoo\\xc2\\xae Auto Tuning 1pcs for Jeep Trail Rated 4x4 Nameplate Emblem Wrangler Grand Cherokee Liberty Badge Sticky Back Logo Trailhawk 1pcs for 2014 Black'>, 'review_body': <tf.Tensor: shape=(), dtype=string, numpy=b'high quality. love it.'>, 'review_date': <tf.Tensor: shape=(), dtype=string, numpy=b'2014-07-24'>, 'review_headline': <tf.Tensor: shape=(), dtype=string, numpy=b'love it.'>, 'review_id': <tf.Tensor: shape=(), dtype=string, numpy=b'R2COV3YZWVQ4ZJ'>, 'star_rating': <tf.Tensor: shape=(), dtype=int32, numpy=5>, 'total_votes': <tf.Tensor: shape=(), dtype=int32, numpy=0>, 'verified_purchase': <tf.Tensor: shape=(), dtype=int64, numpy=0>, 'vine': <tf.Tensor: shape=(), dtype=int64, numpy=1>}}\n"
          ],
          "name": "stdout"
        }
      ]
    },
    {
      "cell_type": "code",
      "metadata": {
        "id": "6e0bqCPunU2d",
        "outputId": "0b1140a7-d22a-4627-f509-5fe4b1d7e7a5",
        "colab": {
          "base_uri": "https://localhost:8080/",
          "height": 570
        }
      },
      "source": [
        "for reviews in train_dataset.take(10):\n",
        "  review_text = reviews['data']\n",
        "  print(review_text.get('review_body').numpy())\n",
        "  print(review_text.get('star_rating'))\n",
        "  print(tf.where(review_text.get('star_rating') > 3,1,0).numpy()) # here i am giving rating 4 or 5 as a posiitive sentiment and rating 1,2,3 as a negative sentiment"
      ],
      "execution_count": null,
      "outputs": [
        {
          "output_type": "stream",
          "text": [
            "b'This is a really nice, simple, black leather Kindle case. It offers great protection and even has a little pocket inside the front cover for notes. Terrific value for the money.'\n",
            "tf.Tensor(5, shape=(), dtype=int32)\n",
            "1\n",
            "b'high quality. love it.'\n",
            "tf.Tensor(5, shape=(), dtype=int32)\n",
            "1\n",
            "b'i like the color and the style. easy to use. sturdy so the device does not get scratched. good price'\n",
            "tf.Tensor(4, shape=(), dtype=int32)\n",
            "1\n",
            "b\"I've had this case for almost 2 years now and it has been great. It's a simple case. I'm not asking it to protect the GPS from anything more than other things shoved into a compartment along with it but it does the job. Considering the cost I'm very happy.\"\n",
            "tf.Tensor(5, shape=(), dtype=int32)\n",
            "1\n",
            "b\"Skque Clear Crystal Screen Protector for Garmin Nuvi 1450/1450LMT 5-Inch : I bought this product from Amazon.com at a very reasonable price.<br />It takes a little time to put it on but, once you have done so, you've got great protection with it. It fit my Garmin very well and it<br />helps keep the finger prints and excessive glare away from the GPS srceen.For a cheap enough price it wont heart to give it a try and buy<br />from Amazon.com for this cheap price, I did...\"\n",
            "tf.Tensor(5, shape=(), dtype=int32)\n",
            "1\n",
            "b'just as listed. nice holder for the pill speaker'\n",
            "tf.Tensor(5, shape=(), dtype=int32)\n",
            "1\n",
            "b'This case looks great, but within one day the soft coating peeled on the corners making it look horrible .'\n",
            "tf.Tensor(1, shape=(), dtype=int32)\n",
            "0\n",
            "b'Received items I order quickly. Had to exchange sub woofers for a smaller ones the support and exchange was very easy.'\n",
            "tf.Tensor(5, shape=(), dtype=int32)\n",
            "1\n",
            "b'Work good'\n",
            "tf.Tensor(5, shape=(), dtype=int32)\n",
            "1\n",
            "b\"Easy installation but operation could be explained in more detail. I recommend using the film patch to eliminate the double image that is common with these types of units due to the laminated windshield. Units that have OBDII connections will display more information, but the GPS units like this work great if just a speed display is all you need. Wife's car is pre-OBDII and had a broken speedometer so this works just fine.\"\n",
            "tf.Tensor(5, shape=(), dtype=int32)\n",
            "1\n"
          ],
          "name": "stdout"
        }
      ]
    },
    {
      "cell_type": "code",
      "metadata": {
        "id": "8JVt5nAnoGy6"
      },
      "source": [
        "tokenizer = tfds.features.text.Tokenizer()"
      ],
      "execution_count": null,
      "outputs": []
    },
    {
      "cell_type": "code",
      "metadata": {
        "id": "Cj79p5mPpCFj"
      },
      "source": [
        "# First thing to do is to tokenize the data and build the vocabulary\n",
        "\n",
        "vocabulary = set() #We are using the set function as it will get rid of all the duplicates, this wat i will get the unique values\n",
        "for  _, reviews in train_dataset.enumerate():\n",
        "  reviews_text = reviews['data']\n",
        "  reviews_token = tokenizer.tokenize(reviews_text.get('review_body').numpy())\n",
        "  vocabulary.update(reviews_token)"
      ],
      "execution_count": null,
      "outputs": []
    },
    {
      "cell_type": "code",
      "metadata": {
        "id": "8laoLFmU1-nO",
        "outputId": "b6543678-ceb3-4768-bfa7-4cd46f1a16ba",
        "colab": {
          "base_uri": "https://localhost:8080/",
          "height": 34
        }
      },
      "source": [
        "vocab_size = len(vocabulary)\n",
        "vocab_size"
      ],
      "execution_count": null,
      "outputs": [
        {
          "output_type": "execute_result",
          "data": {
            "text/plain": [
              "73738"
            ]
          },
          "metadata": {
            "tags": []
          },
          "execution_count": 12
        }
      ]
    },
    {
      "cell_type": "code",
      "metadata": {
        "id": "XPfZVeOTpMeS"
      },
      "source": [
        "\n",
        "encoder = tfds.features.text.TokenTextEncoder(vocabulary)"
      ],
      "execution_count": null,
      "outputs": []
    },
    {
      "cell_type": "code",
      "metadata": {
        "id": "QytbGl5pqmTJ",
        "outputId": "a1aa1508-5370-4b7d-a624-56a318fa7501",
        "colab": {
          "base_uri": "https://localhost:8080/",
          "height": 214
        }
      },
      "source": [
        "for reviews in train_dataset.take(5):\n",
        "  review_text = reviews['data']\n",
        "  print(review_text.get('review_body').numpy())\n",
        "  encoded_term = encoder.encode(review_text.get('review_body').numpy())\n",
        "  print(encoded_term)"
      ],
      "execution_count": null,
      "outputs": [
        {
          "output_type": "stream",
          "text": [
            "b'This is a really nice, simple, black leather Kindle case. It offers great protection and even has a little pocket inside the front cover for notes. Terrific value for the money.'\n",
            "[22406, 12003, 40967, 71822, 13620, 66355, 26731, 34040, 25851, 71013, 30871, 38457, 70788, 41506, 53044, 42576, 62131, 40967, 47197, 3798, 18018, 40333, 56211, 5281, 54255, 36712, 72292, 48688, 54255, 40333, 34955]\n",
            "b'high quality. love it.'\n",
            "[54834, 37594, 2207, 16220]\n",
            "b'i like the color and the style. easy to use. sturdy so the device does not get scratched. good price'\n",
            "[33092, 69538, 40333, 56612, 53044, 40333, 34992, 14075, 72570, 52603, 16418, 72980, 40333, 34442, 49808, 30499, 69186, 10979, 62031, 62748]\n",
            "b\"I've had this case for almost 2 years now and it has been great. It's a simple case. I'm not asking it to protect the GPS from anything more than other things shoved into a compartment along with it but it does the job. Considering the cost I'm very happy.\"\n",
            "[30791, 6978, 10605, 62915, 71013, 54255, 11640, 35507, 42712, 41275, 53044, 16220, 62131, 60221, 70788, 30871, 40505, 40967, 66355, 71013, 30791, 67997, 30499, 6132, 16220, 72570, 40213, 40333, 51096, 12378, 33350, 12214, 65261, 9329, 11776, 8276, 53707, 40967, 33250, 2461, 35719, 16220, 40684, 16220, 49808, 40333, 21453, 64404, 40333, 6324, 30791, 67997, 64591, 55043]\n",
            "b\"Skque Clear Crystal Screen Protector for Garmin Nuvi 1450/1450LMT 5-Inch : I bought this product from Amazon.com at a very reasonable price.<br />It takes a little time to put it on but, once you have done so, you've got great protection with it. It fit my Garmin very well and it<br />helps keep the finger prints and excessive glare away from the GPS srceen.For a cheap enough price it wont heart to give it a try and buy<br />from Amazon.com for this cheap price, I did...\"\n",
            "[10751, 38765, 62747, 28122, 32113, 54255, 68238, 40732, 8404, 64236, 15524, 56028, 30791, 57833, 62915, 47540, 12378, 44214, 67368, 47733, 40967, 64591, 7536, 62748, 63945, 30871, 38542, 40967, 47197, 11239, 72570, 17117, 16220, 3625, 40684, 10368, 54615, 49897, 4308, 72980, 54615, 6978, 21659, 70788, 41506, 35719, 16220, 30871, 16980, 51487, 68238, 64591, 22895, 53044, 16220, 63945, 69390, 53597, 40333, 25260, 43618, 53044, 10314, 34818, 53963, 12378, 40333, 51096, 53361, 35509, 40967, 7476, 38181, 62748, 16220, 67430, 30076, 72570, 38026, 16220, 40967, 20344, 53044, 52875, 63945, 12378, 44214, 67368, 54255, 62915, 7476, 62748, 30791, 68505]\n"
          ],
          "name": "stdout"
        }
      ]
    },
    {
      "cell_type": "code",
      "metadata": {
        "id": "8LM4mhYYwWUe"
      },
      "source": [
        "encoded_term = encoder.encode(review_text.get('review_body').numpy())"
      ],
      "execution_count": null,
      "outputs": []
    },
    {
      "cell_type": "code",
      "metadata": {
        "id": "AKUCQXBjt2jd"
      },
      "source": [
        "for index in encoded_term:\n",
        "  print('{}......{}'. format(index, encoder.decode([index])))"
      ],
      "execution_count": null,
      "outputs": []
    },
    {
      "cell_type": "code",
      "metadata": {
        "id": "lzQLP9V0usIU"
      },
      "source": [
        "def encode(text , label_tensor):\n",
        "  encoded_text = encoder.encode(text.numpy())\n",
        "  label = tf.where(label_tensor > 3, 1, 0)\n",
        "  return encoded_text, label"
      ],
      "execution_count": null,
      "outputs": []
    },
    {
      "cell_type": "code",
      "metadata": {
        "id": "3qjdAIioxKcz"
      },
      "source": [
        "def encoded_map(tensor):\n",
        "\n",
        "  text = tensor['data'].get('review_body')\n",
        "  label = tensor['data'].get('star_rating')\n",
        "\n",
        "  encoded_text, label = tf.py_function(encode, inp=[text, label], Tout=[tf.int64, tf.int32])\n",
        "\n",
        "  encoded_text.set_shape([None])\n",
        "  label.set_shape([])\n",
        "\n",
        "  return encoded_text, label"
      ],
      "execution_count": null,
      "outputs": []
    },
    {
      "cell_type": "code",
      "metadata": {
        "id": "QpFtu8dxpAfV"
      },
      "source": [
        ""
      ],
      "execution_count": null,
      "outputs": []
    },
    {
      "cell_type": "code",
      "metadata": {
        "id": "0uCHk_37yAv1"
      },
      "source": [
        "transformed_data = train_dataset.map(encoded_map)"
      ],
      "execution_count": null,
      "outputs": []
    },
    {
      "cell_type": "code",
      "metadata": {
        "id": "Ozj6cU66pk_A"
      },
      "source": [
        ""
      ],
      "execution_count": null,
      "outputs": []
    },
    {
      "cell_type": "code",
      "metadata": {
        "id": "803tP9DdyV8J",
        "outputId": "f1a90042-380d-48d3-ded0-b9e7c0580d0f",
        "colab": {
          "base_uri": "https://localhost:8080/",
          "height": 141
        }
      },
      "source": [
        "for k0, k1 in transformed_data.take(2):\n",
        "  print(k0)\n",
        "  print(k1)"
      ],
      "execution_count": null,
      "outputs": [
        {
          "output_type": "stream",
          "text": [
            "tf.Tensor(\n",
            "[22406 12003 40967 71822 13620 66355 26731 34040 25851 71013 30871 38457\n",
            " 70788 41506 53044 42576 62131 40967 47197  3798 18018 40333 56211  5281\n",
            " 54255 36712 72292 48688 54255 40333 34955], shape=(31,), dtype=int64)\n",
            "tf.Tensor(1, shape=(), dtype=int32)\n",
            "tf.Tensor([54834 37594  2207 16220], shape=(4,), dtype=int64)\n",
            "tf.Tensor(1, shape=(), dtype=int32)\n"
          ],
          "name": "stdout"
        }
      ]
    },
    {
      "cell_type": "code",
      "metadata": {
        "id": "2uz_Y0cYyjQS"
      },
      "source": [
        "SIZE = 10000\n",
        "\n",
        "train_data = transformed_data.skip(SIZE).shuffle(BUFFER_SIZE)\n",
        "train_data = train_data.padded_batch(BATCH_SIZE) # We want to take 128 records every batch and then train the model\n",
        "#padding will help in getting equal number of variables for each batch size \n",
        "\n",
        "test_data = transformed_data.take(SIZE)\n",
        "test_data = test_data.padded_batch(BATCH_SIZE)"
      ],
      "execution_count": null,
      "outputs": []
    },
    {
      "cell_type": "code",
      "metadata": {
        "id": "ywYSCoUO0RCL"
      },
      "source": [
        "vocab_size += 1 #after padding a new digit will come into place 0"
      ],
      "execution_count": null,
      "outputs": []
    },
    {
      "cell_type": "code",
      "metadata": {
        "id": "LYnuJ_d31q-M"
      },
      "source": [
        "sample_text , sample_label = next(iter(test_data))\n",
        "sample_text[0] , sample_label[0]\n",
        "\n",
        "#the output will show you the batch size of 128"
      ],
      "execution_count": null,
      "outputs": []
    },
    {
      "cell_type": "code",
      "metadata": {
        "id": "eWEgkBHO0-2K"
      },
      "source": [
        "model = tf.keras.Sequential()"
      ],
      "execution_count": null,
      "outputs": []
    },
    {
      "cell_type": "code",
      "metadata": {
        "id": "h0isVANt1HIQ"
      },
      "source": [
        "from tensorflow.keras.layers import Dense , Dropout\n",
        "from tensorflow.keras.layers import BatchNormalization\n",
        "from tensorflow.keras.models import Sequential"
      ],
      "execution_count": null,
      "outputs": []
    },
    {
      "cell_type": "code",
      "metadata": {
        "id": "YziM5ASc2Mgl"
      },
      "source": [
        "model = Sequential()\n",
        "model.add((tf.keras.layers.Embedding(vocab_size,128)))\n",
        "model.add(tf.keras.layers.Bidirectional(tf.keras.layers.LSTM(128, return_sequences=True)))\n",
        "model.add(tf.keras.layers.Bidirectional(tf.keras.layers.LSTM(128, return_sequences=True)))\n",
        "# model.add(tf.keras.layers.Bidirectional(tf.keras.layers.LSTM(128, return_sequences=True)))\n",
        "model.add(tf.keras.layers.Bidirectional(tf.keras.layers.LSTM(64)))\n",
        "for units in [64,64]:\n",
        "  model.add(Dense(64, activation='relu', kernel_initializer='uniform'))\n",
        "model.add(Dense(units=1, activation='sigmoid'))"
      ],
      "execution_count": null,
      "outputs": []
    },
    {
      "cell_type": "code",
      "metadata": {
        "id": "UgkypSgq3sLI"
      },
      "source": [
        "import os \n",
        "import datetime\n",
        "\n",
        "logidr = os.path.join(\"tmp/logs\", datetime.datetime.now().strftime(\"%Y%m%d-%H%M%S\"))\n",
        "checkpointer = tf.keras.callbacks.ModelCheckpoint(filepath=\"/tmp/sentiment_analysis.hdf5\", verbose=1, save_best_only=True)\n",
        "\n",
        "model.compile(optimizer='adam', loss=tf.keras.losses.BinaryCrossentropy(from_logits=True),  metrics=['accuracy'])"
      ],
      "execution_count": null,
      "outputs": []
    },
    {
      "cell_type": "code",
      "metadata": {
        "id": "_OxPSg0U0Lt-",
        "outputId": "db40fe5a-96ef-4067-9cd3-ed06e92bc2c6",
        "colab": {
          "base_uri": "https://localhost:8080/",
          "height": 230
        }
      },
      "source": [
        "history = model.fit(train_data, epochs=8, validation_data=test_data) "
      ],
      "execution_count": null,
      "outputs": [
        {
          "output_type": "stream",
          "text": [
            "Epoch 1/8\n",
            "742/742 [==============================] - 370s 499ms/step - loss: 0.5843 - accuracy: 0.7368 - val_loss: 0.5888 - val_accuracy: 0.7271\n",
            "Epoch 2/8\n",
            "742/742 [==============================] - 378s 509ms/step - loss: 0.5842 - accuracy: 0.7369 - val_loss: 0.5888 - val_accuracy: 0.7271\n",
            "Epoch 3/8\n",
            "742/742 [==============================] - 374s 504ms/step - loss: 0.5843 - accuracy: 0.7368 - val_loss: 0.5888 - val_accuracy: 0.7271\n",
            "Epoch 4/8\n",
            "742/742 [==============================] - 368s 497ms/step - loss: 0.5842 - accuracy: 0.7369 - val_loss: 0.5888 - val_accuracy: 0.7271\n",
            "Epoch 5/8\n",
            "742/742 [==============================] - 369s 497ms/step - loss: 0.5842 - accuracy: 0.7369 - val_loss: 0.5888 - val_accuracy: 0.7271\n",
            "Epoch 6/8\n",
            "543/742 [====================>.........] - ETA: 1:34 - loss: 0.5843 - accuracy: 0.7369"
          ],
          "name": "stdout"
        }
      ]
    },
    {
      "cell_type": "code",
      "metadata": {
        "id": "5gOaswGX2LSo",
        "outputId": "a2e044e8-9f1d-42cd-f0f6-58152d072140",
        "colab": {
          "base_uri": "https://localhost:8080/",
          "height": 591
        }
      },
      "source": [
        "print(history.history.keys())\n",
        "# summarize history for accuracy\n",
        "plt.plot(history.history['accuracy'])\n",
        "plt.plot(history.history['val_accuracy'])\n",
        "plt.title('model accuracy')\n",
        "plt.ylabel('accuracy')\n",
        "plt.xlabel('epoch')\n",
        "plt.legend(['train', 'test'], loc='upper left')\n",
        "plt.show()\n",
        "# summarize history for loss\n",
        "plt.plot(history.history['loss'])\n",
        "plt.plot(history.history['val_loss'])\n",
        "plt.title('model loss')\n",
        "plt.ylabel('loss')\n",
        "plt.xlabel('epoch')\n",
        "plt.legend(['train', 'test'], loc='upper left')\n",
        "plt.show()"
      ],
      "execution_count": null,
      "outputs": [
        {
          "output_type": "stream",
          "text": [
            "dict_keys(['loss', 'accuracy', 'val_loss', 'val_accuracy'])\n"
          ],
          "name": "stdout"
        },
        {
          "output_type": "display_data",
          "data": {
            "image/png": "[encoded data removed]",
            "text/plain": [
              "<Figure size 432x288 with 1 Axes>"
            ]
          },
          "metadata": {
            "tags": [],
            "needs_background": "light"
          }
        },
        {
          "output_type": "display_data",
          "data": {
            "image/png": "[encoded data removed]",
            "text/plain": [
              "<Figure size 432x288 with 1 Axes>"
            ]
          },
          "metadata": {
            "tags": [],
            "needs_background": "light"
          }
        }
      ]
    },
    {
      "cell_type": "code",
      "metadata": {
        "id": "GFEsc2YAV1Zv",
        "outputId": "98a9437d-8cfa-4a5a-be7e-ba41022caaae",
        "colab": {
          "base_uri": "https://localhost:8080/",
          "height": 52
        }
      },
      "source": [
        "model.evaluate(test_data, return_dict=True)"
      ],
      "execution_count": null,
      "outputs": [
        {
          "output_type": "stream",
          "text": [
            "79/79 [==============================] - 26s 334ms/step - loss: 0.4019 - accuracy: 0.8506\n"
          ],
          "name": "stdout"
        },
        {
          "output_type": "execute_result",
          "data": {
            "text/plain": [
              "{'accuracy': 0.850600004196167, 'loss': 0.4019276797771454}"
            ]
          },
          "metadata": {
            "tags": []
          },
          "execution_count": 69
        }
      ]
    },
    {
      "cell_type": "code",
      "metadata": {
        "id": "Sp5qScFjWKXM"
      },
      "source": [
        "for text, label in test_data.take(1):\n",
        "  print(label)\n",
        "  print(model.predict(text))"
      ],
      "execution_count": null,
      "outputs": []
    },
    {
      "cell_type": "code",
      "metadata": {
        "id": "KWqXHiFV56IR"
      },
      "source": [
        "from sklearn.metrics import confusion_matrix\n",
        "import seaborn as sns"
      ],
      "execution_count": null,
      "outputs": []
    },
    {
      "cell_type": "code",
      "metadata": {
        "id": "3DS0t6zd6JOG"
      },
      "source": [
        "fig, ax = plt.subplots(figsize=(5,5))\n",
        "sns.heatmap(confusion_matrix(test_data, pred),annot=True, ax=ax, fmt='g', cmap='Greens')\n",
        "ax.set_title('Matrix for ANN Model')"
      ],
      "execution_count": null,
      "outputs": []
    },
    {
      "cell_type": "code",
      "metadata": {
        "id": "JdoQl6AlcYPx"
      },
      "source": [
        "model.save('tmp/final_sentiment_model.hdf5')"
      ],
      "execution_count": null,
      "outputs": []
    },
    {
      "cell_type": "code",
      "metadata": {
        "id": "qeKiTrNAGJwO"
      },
      "source": [
        ""
      ],
      "execution_count": null,
      "outputs": []
    }
  ]
}